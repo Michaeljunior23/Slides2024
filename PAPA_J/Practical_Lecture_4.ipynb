{
 "cells": [
  {
   "cell_type": "markdown",
   "id": "060b329d-d8cb-45d9-9556-de011763f461",
   "metadata": {},
   "source": [
    "\n",
    "# Python Practical Lecture Notes\n",
    "## For Level 300 Information Technology Students\n",
    "\n",
    "### Topics Covered:\n",
    "- Decorators and Factories\n",
    "- Descriptors and Meta Classes\n",
    "- Graphical User Interface (GUI) Programming\n",
    "\n",
    "**References**:\n",
    "1. Barry, P. (2016). *Head First Python* (2nd ed.). O'Reilly.  \n",
    "2. Beazley, D., & Jones, B. K. (2013). *Python Cookbook: 3rd Edition*. O'Reilly Media.  \n",
    "3. Matthes, E. (2019). *Python Crash Course* (2nd ed.). No Starch Press.  \n",
    "4. Ramalho, L. (2022). *Fluent Python*. O'Reilly Media.  \n",
    "5. Slatkin, B. (2019). *Effective Python* (2nd ed.). Addison-Wesley Professional.  \n"
   ]
  },
  {
   "cell_type": "code",
   "execution_count": 1,
   "id": "91709496",
   "metadata": {},
   "outputs": [
    {
     "name": "stdout",
     "output_type": "stream",
     "text": [
      "Before the function call\n",
      "Hello!\n",
      "After the function call\n"
     ]
    }
   ],
   "source": [
    "\n",
    "# Decorators and Factories\n",
    "\n",
    "# A decorator is a function that takes another function and extends its behavior.\n",
    "\n",
    "# Example 1: Basic Function Decorator\n",
    "def simple_decorator(func):\n",
    "    def wrapper():\n",
    "        print(\"Before the function call\")\n",
    "        func()\n",
    "        print(\"After the function call\")\n",
    "    return wrapper\n",
    "\n",
    "@simple_decorator\n",
    "def say_hello():\n",
    "    print(\"Hello!\")\n",
    "\n",
    "say_hello()\n",
    "\n",
    "\n"
   ]
  },
  {
   "cell_type": "code",
   "execution_count": 4,
   "id": "ac39c878-efd0-4b89-b96a-bb58bf41a8a6",
   "metadata": {},
   "outputs": [
    {
     "name": "stdout",
     "output_type": "stream",
     "text": [
      "Hello, Pythonista\n",
      "Hello, Pythonista\n",
      "Hello, Pythonista\n"
     ]
    }
   ],
   "source": [
    "# Example 2: Decorator with Arguments\n",
    "def repeat(num_times):\n",
    "    def decorator_repeat(func):\n",
    "        def wrapper(*args, **kwargs):\n",
    "            for _ in range(num_times):\n",
    "                func(*args, **kwargs)\n",
    "        return wrapper\n",
    "    return decorator_repeat\n",
    "\n",
    "@repeat(3)\n",
    "def greet(name):\n",
    "    print(f\"Hello, {name}\")\n",
    "\n",
    "greet(\"Pythonista\")\n",
    "\n"
   ]
  },
  {
   "cell_type": "code",
   "execution_count": 6,
   "id": "d862451a-8ec2-4ab7-a76d-c9f2d75e786f",
   "metadata": {},
   "outputs": [
    {
     "name": "stdout",
     "output_type": "stream",
     "text": [
      "Hello,Pythonista\n",
      "Hello,Pythonista\n",
      "Hello,Pythonista\n"
     ]
    }
   ],
   "source": [
    "def repeat(num_times):\n",
    "    def decorator_repeat(func):\n",
    "        def wrapper(*args, **kargs):\n",
    "            for _ in range(num_times):\n",
    "                func(*args,**kargs)\n",
    "        return wrapper\n",
    "    return decorator_repeat\n",
    "\n",
    "@repeat(3)\n",
    "def greet(name):\n",
    "    print(f\"Hello,{name}\")\n",
    "greet(\"Pythonista\")"
   ]
  },
  {
   "cell_type": "code",
   "execution_count": 16,
   "id": "2ecefae6-e834-49d7-999d-192d88f497dc",
   "metadata": {},
   "outputs": [
    {
     "name": "stdout",
     "output_type": "stream",
     "text": [
      "Decorator One: Before function\n",
      "Decorator Two: Before function\n",
      "Hello!\n",
      "Decorator Two: After function\n",
      "Decorator One: After function\n"
     ]
    }
   ],
   "source": [
    "#Chaining of decorators\n",
    "def decorator_one(func):\n",
    "    def wrapper():\n",
    "        print(\"Decorator One: Before function\")\n",
    "        func()\n",
    "        print(\"Decorator One: After function\")\n",
    "    return wrapper\n",
    "\n",
    "def decorator_two(func):\n",
    "    def wrapper():\n",
    "        print(\"Decorator Two: Before function\")\n",
    "        func()\n",
    "        print(\"Decorator Two: After function\")\n",
    "    return wrapper\n",
    "\n",
    "@decorator_one\n",
    "@decorator_two\n",
    "def say_hello():\n",
    "    print(\"Hello!\")\n",
    "\n",
    "say_hello()\n"
   ]
  },
  {
   "cell_type": "code",
   "execution_count": null,
   "id": "2651959c-e99f-426e-8f1f-3fbd341646c2",
   "metadata": {},
   "outputs": [],
   "source": [
    "# Factory Functions: A factory function returns a new function or object\n",
    "def make_multiplier(factor):\n",
    "    def multiplier(number):\n",
    "        return number * factor\n",
    "    return multiplier\n",
    "\n",
    "double = make_multiplier(2)\n",
    "print(\"5 doubled is\", double(5))"
   ]
  },
  {
   "cell_type": "code",
   "execution_count": 13,
   "id": "2505b7f1-688f-4dc0-ae8e-6be293497d11",
   "metadata": {},
   "outputs": [
    {
     "name": "stdout",
     "output_type": "stream",
     "text": [
      "Setting: Python Descriptor\n",
      "Getting: Python Descriptor\n",
      "Python Descriptor\n"
     ]
    }
   ],
   "source": [
    "# Descriptors and Meta Classes\n",
    "\n",
    "# Descriptors are objects that define methods for attribute access: __get__, __set__, __delete__\n",
    "\n",
    "class DescriptorExample:\n",
    "    def __init__(self, name=\"\"):\n",
    "        self.name = name\n",
    "\n",
    "    def __get__(self, instance, owner):\n",
    "        print(\"Getting:\", self.name)\n",
    "        return self.name\n",
    "\n",
    "    def __set__(self, instance, value):\n",
    "        print(\"Setting:\", value)\n",
    "        self.name = value\n",
    "\n",
    "class MyClass:\n",
    "    attribute = DescriptorExample()\n",
    "\n",
    "obj = MyClass()\n",
    "obj.attribute = \"Python Descriptor\"\n",
    "print(obj.attribute)\n",
    "\n",
    "\n"
   ]
  },
  {
   "cell_type": "code",
   "execution_count": 17,
   "id": "13c0e951-0dcc-4e56-b220-af2965868b6a",
   "metadata": {},
   "outputs": [
    {
     "name": "stdout",
     "output_type": "stream",
     "text": [
      "Accessing the square of the value...\n",
      "25\n"
     ]
    }
   ],
   "source": [
    "#A non-data descriptor is a class that defines only the \n",
    "#__get__ method (and optionally __delete__), but not __set__. \n",
    "#These are typically used for read-only attributes or computed properties.\n",
    "\n",
    "\n",
    "\n",
    "class SquareDescriptor:\n",
    "    def __get__(self, instance, owner):\n",
    "        print(\"Accessing the square of the value...\")\n",
    "        return instance._value ** 2\n",
    "\n",
    "class Number:\n",
    "    square = SquareDescriptor()  # Non-data descriptor\n",
    "\n",
    "    def __init__(self, value):\n",
    "        self._value = value  # Regular instance attribute\n",
    "\n",
    "# Usage\n",
    "n = Number(5)\n",
    "print(n.square)  # Triggers __get__\n"
   ]
  },
  {
   "cell_type": "code",
   "execution_count": 23,
   "id": "b6ba1bca-0544-4a0f-ac3d-4b41aa5336ea",
   "metadata": {},
   "outputs": [
    {
     "name": "stdout",
     "output_type": "stream",
     "text": [
      "25\n"
     ]
    }
   ],
   "source": [
    "#Type Checking and validation with descriptor\n",
    "#Example: Descriptor That Ensures an Attribute Is an int\n",
    "class IntegerField:\n",
    "    def __get__(self, instance, owner):\n",
    "        return instance.__dict__.get('_age', None)\n",
    "\n",
    "    def __set__(self, instance, value):\n",
    "        if not isinstance(value, int):\n",
    "            raise TypeError(\"Age must be an integer!\")\n",
    "        if value < 0:\n",
    "            raise ValueError(\"Age cannot be negative!\")\n",
    "        instance.__dict__['_age'] = value\n",
    "\n",
    "class Person:\n",
    "    age = IntegerField()  # Data descriptor\n",
    "\n",
    "# Usage\n",
    "p = Person()\n",
    "p.age = 25           # Valid\n",
    "print(p.age)         # Output: 25\n",
    "\n",
    "p.age = -5           # Raises ValueError\n",
    "p.age = \"Twenty\"     # Raises TypeError\n"
   ]
  },
  {
   "cell_type": "code",
   "execution_count": 15,
   "id": "4d6a70fd-a5d4-4b91-ad08-89c24526e540",
   "metadata": {},
   "outputs": [
    {
     "name": "stdout",
     "output_type": "stream",
     "text": [
      "Creating class MyMetaClassClass\n"
     ]
    }
   ],
   "source": [
    "# Metaclasses: A class of a class that defines how a class behaves\n",
    "\n",
    "# Custom metaclass\n",
    "class Meta(type):\n",
    "    def __new__(cls, name, bases, dct):\n",
    "        print(f\"Creating class {name}\")\n",
    "        return super().__new__(cls, name, bases, dct)\n",
    "\n",
    "class MyMetaClassClass(metaclass=Meta):\n",
    "    pass\n",
    "\n",
    "instance = MyMetaClassClass()"
   ]
  },
  {
   "cell_type": "code",
   "execution_count": 8,
   "id": "d7531cb4-ac35-4cb0-8ad8-0006fb9a9965",
   "metadata": {},
   "outputs": [
    {
     "name": "stdout",
     "output_type": "stream",
     "text": [
      "5 double is 10\n"
     ]
    }
   ],
   "source": [
    "def make_multiplier(factor):\n",
    "    def multiplier(number):\n",
    "        return factor*number\n",
    "    return multiplier\n",
    "\n",
    "double = make_multiplier(2)\n",
    "print(\"5 double is\", double(5))print(\"5 double is\", double(5))\n",
    "\n"
   ]
  },
  {
   "cell_type": "code",
   "execution_count": 14,
   "id": "054fe17a",
   "metadata": {},
   "outputs": [],
   "source": [
    "\n",
    "# Graphical User Interface (GUI) Programming using Tkinter\n",
    "\n",
    "import tkinter as tk\n",
    "\n",
    "def on_click():\n",
    "    label.config(text=\"Hello, \" + entry.get())\n",
    "\n",
    "# Create the main window\n",
    "root = tk.Tk()\n",
    "root.title(\"Simple GUI\")\n",
    "\n",
    "# Add a label, entry, and button\n",
    "label = tk.Label(root, text=\"Enter your name:\")\n",
    "label.pack()\n",
    "\n",
    "entry = tk.Entry(root)\n",
    "entry.pack()\n",
    "\n",
    "button = tk.Button(root, text=\"Greet\", command=on_click)\n",
    "button.pack()\n",
    "\n",
    "# Run the GUI event loop\n",
    "root.mainloop()\n"
   ]
  },
  {
   "cell_type": "code",
   "execution_count": null,
   "id": "fa1fa3fd-45db-4adf-8e20-e5a80e6931c9",
   "metadata": {},
   "outputs": [],
   "source": []
  }
 ],
 "metadata": {
  "kernelspec": {
   "display_name": "Python 3 (ipykernel)",
   "language": "python",
   "name": "python3"
  },
  "language_info": {
   "codemirror_mode": {
    "name": "ipython",
    "version": 3
   },
   "file_extension": ".py",
   "mimetype": "text/x-python",
   "name": "python",
   "nbconvert_exporter": "python",
   "pygments_lexer": "ipython3",
   "version": "3.12.4"
  }
 },
 "nbformat": 4,
 "nbformat_minor": 5
}
